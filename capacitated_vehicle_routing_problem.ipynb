{
 "cells": [
  {
   "cell_type": "markdown",
   "id": "f2d8f2ae",
   "metadata": {},
   "source": [
    "# Capacitated Vehicle Routing Problem"
   ]
  },
  {
   "cell_type": "code",
   "execution_count": 1,
   "id": "c6d8a588",
   "metadata": {},
   "outputs": [],
   "source": [
    "import numpy as np\n",
    "import matplotlib.pyplot as plt"
   ]
  },
  {
   "cell_type": "code",
   "execution_count": 2,
   "id": "02f9d413",
   "metadata": {},
   "outputs": [],
   "source": [
    "rnd = np.random\n",
    "rnd.seed(4)"
   ]
  },
  {
   "cell_type": "code",
   "execution_count": 3,
   "id": "29694897",
   "metadata": {},
   "outputs": [],
   "source": [
    "n = 10 # number of clients\n",
    "xc = rnd.rand(n+1)*200  # n for client and one extra for depot\n",
    "yc = rnd.rand(n+1)*100"
   ]
  },
  {
   "cell_type": "code",
   "execution_count": 4,
   "id": "6259bb34",
   "metadata": {},
   "outputs": [
    {
     "data": {
      "text/plain": [
       "<matplotlib.collections.PathCollection at 0x191169277f0>"
      ]
     },
     "execution_count": 4,
     "metadata": {},
     "output_type": "execute_result"
    },
    {
     "data": {
      "image/png": "[encoded data removed]",
      "text/plain": [
       "<Figure size 640x480 with 1 Axes>"
      ]
     },
     "metadata": {},
     "output_type": "display_data"
    }
   ],
   "source": [
    "plt.plot(xc[0],yc[0],c='r',marker='s')   # color red, marker square\n",
    "plt.scatter(xc[1:],yc[1:],c='b')  # color blue"
   ]
  },
  {
   "cell_type": "code",
   "execution_count": 5,
   "id": "f8207266",
   "metadata": {},
   "outputs": [],
   "source": [
    "N = [i for i in range(1,n+1)]   # list of clients\n",
    "V = [0] + N   # union of o and list\n",
    "A = [(i,j) for i in V for j in V if i!=j]  # sort of arcs\n",
    "c = {(i,j): np.hypot(xc[i]-xc[j],yc[i]-yc[j]) for i,j in A}  # user to calculate hypotenuse for the right angled triangle, given its side and perpendicular\n",
    "Q = 20  # capacity of vehicle\n",
    "q = {i: rnd.randint(1,10) for i in N}  # demand of each customer"
   ]
  },
  {
   "cell_type": "code",
   "execution_count": 6,
   "id": "7448162e",
   "metadata": {},
   "outputs": [],
   "source": [
    "# modelling\n",
    "\n",
    "from gurobipy import Model, GRB, quicksum"
   ]
  },
  {
   "cell_type": "code",
   "execution_count": 7,
   "id": "20666fd2",
   "metadata": {},
   "outputs": [
    {
     "name": "stdout",
     "output_type": "stream",
     "text": [
      "Restricted license - for non-production use only - expires 2024-10-28\n"
     ]
    }
   ],
   "source": [
    "mdl = Model('CVRP')"
   ]
  },
  {
   "cell_type": "code",
   "execution_count": 8,
   "id": "56b28fb6",
   "metadata": {},
   "outputs": [],
   "source": [
    "x = mdl.addVars(A, vtype=GRB.BINARY)\n",
    "u = mdl.addVars(N, vtype=GRB.CONTINUOUS)  # for clients"
   ]
  },
  {
   "cell_type": "code",
   "execution_count": 9,
   "id": "aeb5114c",
   "metadata": {},
   "outputs": [],
   "source": [
    "mdl.modelSense = GRB.MINIMIZE\n",
    "mdl.setObjective(quicksum(x[i,j]*c[i,j] for i,j in A))   # sum of distances"
   ]
  },
  {
   "cell_type": "code",
   "execution_count": 10,
   "id": "5a79b10d",
   "metadata": {},
   "outputs": [],
   "source": [
    "mdl.addConstrs(quicksum(x[i,j] for j in V if j!=i)==1 for i in N);\n",
    "mdl.addConstrs(quicksum(x[i,j] for i in V if i!=j)==1 for j in N);\n",
    "mdl.addConstrs((x[i,j]==1) >> (u[i]+q[i]==u[j]) \n",
    "              for i,j in A if i!=0 and j!=0);\n",
    "mdl.addConstrs(u[i]>=q[i] for i in N);\n",
    "mdl.addConstrs(u[i]<=Q for i in N);"
   ]
  },
  {
   "cell_type": "code",
   "execution_count": 11,
   "id": "85a898dc",
   "metadata": {},
   "outputs": [
    {
     "name": "stdout",
     "output_type": "stream",
     "text": [
      "Gurobi Optimizer version 10.0.3 build v10.0.3rc0 (win64)\n",
      "\n",
      "CPU model: AMD Ryzen 5 5600H with Radeon Graphics, instruction set [SSE2|AVX|AVX2]\n",
      "Thread count: 6 physical cores, 12 logical processors, using up to 12 threads\n",
      "\n",
      "Optimize a model with 40 rows, 120 columns and 220 nonzeros\n",
      "Model fingerprint: 0x754c04c9\n",
      "Model has 90 general constraints\n",
      "Variable types: 10 continuous, 110 integer (110 binary)\n",
      "Coefficient statistics:\n",
      "  Matrix range     [1e+00, 1e+00]\n",
      "  Objective range  [2e+01, 2e+02]\n",
      "  Bounds range     [1e+00, 1e+00]\n",
      "  RHS range        [1e+00, 2e+01]\n",
      "  GenCon rhs range [1e+00, 9e+00]\n",
      "  GenCon coe range [1e+00, 1e+00]\n",
      "Presolve added 162 rows and 4 columns\n",
      "Presolve time: 0.01s\n",
      "Presolved: 202 rows, 124 columns, 1265 nonzeros\n",
      "Variable types: 34 continuous, 90 integer (90 binary)\n",
      "Found heuristic solution: objective 1522.5235964\n",
      "\n",
      "Root relaxation: objective 5.585816e+02, 71 iterations, 0.00 seconds (0.00 work units)\n",
      "\n",
      "    Nodes    |    Current Node    |     Objective Bounds      |     Work\n",
      " Expl Unexpl |  Obj  Depth IntInf | Incumbent    BestBd   Gap | It/Node Time\n",
      "\n",
      "     0     0  558.58157    0   15 1522.52360  558.58157  63.3%     -    0s\n",
      "H    0     0                    1501.3890103  558.58157  62.8%     -    0s\n",
      "H    0     0                    1053.3962846  558.58157  47.0%     -    0s\n",
      "H    0     0                     819.2420972  558.58157  31.8%     -    0s\n",
      "H    0     0                     814.6640091  558.58157  31.4%     -    0s\n",
      "     0     0  563.99473    0   24  814.66401  563.99473  30.8%     -    0s\n",
      "H    0     0                     768.6920737  563.99473  26.6%     -    0s\n",
      "H    0     0                     766.3819982  563.99473  26.4%     -    0s\n",
      "H    0     0                     738.2036748  563.99473  23.6%     -    0s\n",
      "     0     0  570.52045    0   15  738.20367  570.52045  22.7%     -    0s\n",
      "     0     0  570.52045    0   15  738.20367  570.52045  22.7%     -    0s\n",
      "     0     0  586.51128    0   23  738.20367  586.51128  20.5%     -    0s\n",
      "     0     0  593.40325    0   23  738.20367  593.40325  19.6%     -    0s\n",
      "     0     0  597.31324    0   21  738.20367  597.31324  19.1%     -    0s\n",
      "     0     0  599.73006    0   21  738.20367  599.73006  18.8%     -    0s\n",
      "H    0     0                     733.0880304  599.73006  18.2%     -    0s\n",
      "     0     2  599.73006    0   21  733.08803  599.73006  18.2%     -    0s\n",
      "\n",
      "Cutting planes:\n",
      "  Learned: 5\n",
      "  Gomory: 12\n",
      "  Cover: 7\n",
      "  Implied bound: 15\n",
      "  MIR: 12\n",
      "  Zero half: 2\n",
      "  Relax-and-lift: 2\n",
      "\n",
      "Explored 2107 nodes (19629 simplex iterations) in 0.37 seconds (0.20 work units)\n",
      "Thread count was 12 (of 12 available processors)\n",
      "\n",
      "Solution count 9: 733.088 738.204 766.382 ... 1522.52\n",
      "\n",
      "Optimal solution found (tolerance 1.00e-04)\n",
      "Best objective 7.330880303555e+02, best bound 7.330880303555e+02, gap 0.0000%\n"
     ]
    }
   ],
   "source": [
    "mdl.optimize()"
   ]
  },
  {
   "cell_type": "markdown",
   "id": "134c6d59",
   "metadata": {},
   "source": [
    "Downwards the gap is reducing gurobi is trying to minimize the gap of our bounds, the idea is to get both bounds equal to get optimal solution\n",
    "\n",
    "We can add constraints for our model like to stop after 30 sec or gap is less than 10% using following codes:\n",
    "\n",
    "mdl.Params.MIPGap = 0.1\n",
    "mdl.Params.TimeLimit = 30"
   ]
  },
  {
   "cell_type": "code",
   "execution_count": 12,
   "id": "8afae9b4",
   "metadata": {},
   "outputs": [],
   "source": [
    "active_arcs = [a for a in A if x[a].x>0.99]"
   ]
  },
  {
   "cell_type": "code",
   "execution_count": 13,
   "id": "9d99cbef",
   "metadata": {},
   "outputs": [
    {
     "data": {
      "text/plain": [
       "[(0, 6),\n",
       " (0, 9),\n",
       " (1, 0),\n",
       " (2, 10),\n",
       " (3, 0),\n",
       " (4, 3),\n",
       " (5, 7),\n",
       " (6, 2),\n",
       " (7, 8),\n",
       " (8, 1),\n",
       " (9, 5),\n",
       " (10, 4)]"
      ]
     },
     "execution_count": 13,
     "metadata": {},
     "output_type": "execute_result"
    }
   ],
   "source": [
    "active_arcs"
   ]
  },
  {
   "cell_type": "code",
   "execution_count": 14,
   "id": "0e854991",
   "metadata": {},
   "outputs": [
    {
     "data": {
      "text/plain": [
       "<matplotlib.collections.PathCollection at 0x19117b3e5e0>"
      ]
     },
     "execution_count": 14,
     "metadata": {},
     "output_type": "execute_result"
    },
    {
     "data": {
      "image/png": "[encoded data removed]",
      "text/plain": [
       "<Figure size 640x480 with 1 Axes>"
      ]
     },
     "metadata": {},
     "output_type": "display_data"
    }
   ],
   "source": [
    "for i,j in active_arcs:\n",
    "    plt.plot([xc[i],xc[j]],[yc[i],yc[j]],c='g',zorder=0)\n",
    "plt.plot(xc[0],yc[0],c='r',marker='s')   # color red, marker square\n",
    "plt.scatter(xc[1:],yc[1:],c='b')  # color blue\n"
   ]
  }
 ],
 "metadata": {
  "kernelspec": {
   "display_name": "Python 3 (ipykernel)",
   "language": "python",
   "name": "python3"
  },
  "language_info": {
   "codemirror_mode": {
    "name": "ipython",
    "version": 3
   },
   "file_extension": ".py",
   "mimetype": "text/x-python",
   "name": "python",
   "nbconvert_exporter": "python",
   "pygments_lexer": "ipython3",
   "version": "3.9.13"
  }
 },
 "nbformat": 4,
 "nbformat_minor": 5
}
